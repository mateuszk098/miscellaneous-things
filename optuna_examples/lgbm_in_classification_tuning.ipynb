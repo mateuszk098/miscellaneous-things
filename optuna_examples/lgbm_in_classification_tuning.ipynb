{
 "cells": [
  {
   "cell_type": "code",
   "execution_count": 12,
   "metadata": {},
   "outputs": [],
   "source": [
    "from functools import partial\n",
    "from collections import defaultdict\n",
    "from collections import namedtuple\n",
    "\n",
    "import optuna\n",
    "import joblib\n",
    "import numpy as np\n",
    "import pandas as pd\n",
    "import lightgbm as lgb\n",
    "\n",
    "from lightgbm import LGBMClassifier\n",
    "from sklearn.model_selection import StratifiedKFold\n",
    "from sklearn.model_selection import train_test_split\n",
    "from sklearn.datasets import load_breast_cancer\n",
    "from sklearn.metrics import log_loss\n"
   ]
  },
  {
   "cell_type": "code",
   "execution_count": 13,
   "metadata": {},
   "outputs": [],
   "source": [
    "def define_model(trial, seed=None):\n",
    "    params = {\n",
    "        \"random_state\": seed or 42,\n",
    "        \"max_depth\": trial.suggest_int(\"max_depth\", 1, 4),\n",
    "        \"n_estimators\": trial.suggest_int(\"n_estimators\", 100, 500, step=50),\n",
    "        \"learning_rate\": trial.suggest_float(\"learning_rate\", 1e-2, 3e-1, step=0.01),\n",
    "    }\n",
    "    return LGBMClassifier(**params)\n"
   ]
  },
  {
   "cell_type": "code",
   "execution_count": 14,
   "metadata": {},
   "outputs": [],
   "source": [
    "def objective(trial, X, y, seed=None):\n",
    "    seed = seed or 42\n",
    "    skf = StratifiedKFold(n_splits=4, shuffle=True, random_state=seed)\n",
    "    y_oof_proba = np.zeros_like(y, dtype=np.float32)\n",
    "    model = define_model(trial, seed)\n",
    "\n",
    "    for k, (train_ids, valid_ids) in enumerate(skf.split(X, y), start=1):\n",
    "        X_train, y_train = X[train_ids], y[train_ids]\n",
    "        X_valid, y_valid = X[valid_ids], y[valid_ids]\n",
    "        model.fit(X_train, y_train)\n",
    "        y_oof_proba[valid_ids] = model.predict_proba(X_valid)[:, 1]\n",
    "\n",
    "        # intermediate_value = log_loss(y_valid, oof_proba[valid_ids])\n",
    "        # trial.report(intermediate_value, k)\n",
    "\n",
    "        # if trial.should_prune():\n",
    "        #     raise optuna.TrialPruned()\n",
    "\n",
    "    return log_loss(y, y_oof_proba)\n"
   ]
  },
  {
   "cell_type": "code",
   "execution_count": 15,
   "metadata": {},
   "outputs": [],
   "source": [
    "def logging_callback(study, frozen_trial):\n",
    "    previous_best_value = study.user_attrs.get(\"previous_best_value\", None)\n",
    "    if previous_best_value != study.best_value:\n",
    "        study.set_user_attr(\"previous_best_value\", study.best_value)\n",
    "        print(\n",
    "            \"Optuna Trial: {:03} - Best Value: {:.5f}\\nParams: {}. \".format(\n",
    "                frozen_trial.number,\n",
    "                frozen_trial.value,\n",
    "                frozen_trial.params,\n",
    "            )\n",
    "        )\n"
   ]
  },
  {
   "cell_type": "code",
   "execution_count": 16,
   "metadata": {},
   "outputs": [],
   "source": [
    "def seed_study(seed, X, y, n_trials=100, n_jobs=1):\n",
    "    sampler = optuna.samplers.TPESampler(seed=seed)\n",
    "    pruner = optuna.pruners.HyperbandPruner()\n",
    "    study = optuna.create_study(direction=\"minimize\", sampler=sampler, pruner=pruner)\n",
    "    study.optimize(\n",
    "        partial(objective, X=X, y=y, seed=seed),  # type: ignore\n",
    "        n_trials=n_trials,\n",
    "        callbacks=[logging_callback],\n",
    "        n_jobs=n_jobs,\n",
    "    )\n",
    "    best_model = LGBMClassifier(random_state=seed, **study.best_params)\n",
    "    best_value = np.round(study.best_value, 5)\n",
    "    study_frame = study.trials_dataframe(\n",
    "        attrs=(\"number\", \"value\", \"params\", \"state\"),\n",
    "    ).sort_values(by=\"value\")\n",
    "\n",
    "    return best_model, best_value, study_frame\n"
   ]
  },
  {
   "cell_type": "code",
   "execution_count": 17,
   "metadata": {},
   "outputs": [],
   "source": [
    "np.random.seed(42)\n",
    "\n",
    "n_seeds = 3\n",
    "seeds = np.random.randint(0, 1000, size=n_seeds)\n"
   ]
  },
  {
   "cell_type": "code",
   "execution_count": 18,
   "metadata": {},
   "outputs": [
    {
     "name": "stdout",
     "output_type": "stream",
     "text": [
      "Seed: 102\n",
      "Optuna Trial: 000 - Best Value: 0.21219\n",
      "Params: {'max_depth': 3, 'n_estimators': 400, 'learning_rate': 0.09}. \n",
      "Optuna Trial: 002 - Best Value: 0.09462\n",
      "Params: {'max_depth': 1, 'n_estimators': 200, 'learning_rate': 0.11}. \n",
      "Optuna Trial: 006 - Best Value: 0.09435\n",
      "Params: {'max_depth': 1, 'n_estimators': 150, 'learning_rate': 0.17}. \n",
      "\n",
      "Seed: 435\n",
      "Optuna Trial: 000 - Best Value: 0.18012\n",
      "Params: {'max_depth': 4, 'n_estimators': 450, 'learning_rate': 0.09999999999999999}. \n",
      "Optuna Trial: 001 - Best Value: 0.11002\n",
      "Params: {'max_depth': 1, 'n_estimators': 450, 'learning_rate': 0.15000000000000002}. \n",
      "Optuna Trial: 005 - Best Value: 0.09174\n",
      "Params: {'max_depth': 1, 'n_estimators': 150, 'learning_rate': 0.19}. \n",
      "Optuna Trial: 021 - Best Value: 0.08991\n",
      "Params: {'max_depth': 1, 'n_estimators': 150, 'learning_rate': 0.2}. \n",
      "Optuna Trial: 078 - Best Value: 0.08894\n",
      "Params: {'max_depth': 1, 'n_estimators': 100, 'learning_rate': 0.26}. \n",
      "\n",
      "Seed: 860\n",
      "Optuna Trial: 000 - Best Value: 0.11201\n",
      "Params: {'max_depth': 2, 'n_estimators': 350, 'learning_rate': 0.28}. \n",
      "Optuna Trial: 003 - Best Value: 0.09873\n",
      "Params: {'max_depth': 1, 'n_estimators': 350, 'learning_rate': 0.21000000000000002}. \n",
      "Optuna Trial: 011 - Best Value: 0.09091\n",
      "Params: {'max_depth': 1, 'n_estimators': 100, 'learning_rate': 0.22}. \n",
      "Optuna Trial: 013 - Best Value: 0.08805\n",
      "Params: {'max_depth': 1, 'n_estimators': 100, 'learning_rate': 0.24000000000000002}. \n",
      "Optuna Trial: 016 - Best Value: 0.08645\n",
      "Params: {'max_depth': 1, 'n_estimators': 150, 'learning_rate': 0.24000000000000002}. \n",
      "Optuna Trial: 022 - Best Value: 0.08473\n",
      "Params: {'max_depth': 1, 'n_estimators': 150, 'learning_rate': 0.19}. \n",
      "Optuna Trial: 036 - Best Value: 0.08410\n",
      "Params: {'max_depth': 1, 'n_estimators': 200, 'learning_rate': 0.2}. \n",
      "\n"
     ]
    }
   ],
   "source": [
    "optuna.logging.set_verbosity(optuna.logging.ERROR)\n",
    "\n",
    "X, y = load_breast_cancer(return_X_y=True)\n",
    "X_train, X_test, y_train, y_test = train_test_split(\n",
    "    X, y, test_size=0.2, stratify=y, random_state=42\n",
    ")\n",
    "\n",
    "model_study = namedtuple(\"Study\", [\"best_model\", \"best_value\", \"study_frame\"])\n",
    "models = defaultdict(model_study)\n",
    "\n",
    "for seed in seeds:\n",
    "    print(\"Seed:\", seed)\n",
    "    best_lgbm, best_value, study_frame = seed_study(seed, X_train, y_train)\n",
    "    models[f\"{seed:03}\"] = model_study(best_lgbm, best_value, study_frame)\n",
    "    print()\n"
   ]
  },
  {
   "cell_type": "code",
   "execution_count": 19,
   "metadata": {},
   "outputs": [
    {
     "name": "stdout",
     "output_type": "stream",
     "text": [
      "Test Log Loss: 0.11553627668851965\n"
     ]
    }
   ],
   "source": [
    "y_test_proba = np.zeros_like(y_test, dtype=np.float32)\n",
    "\n",
    "for model, _, _ in models.values():\n",
    "    model.fit(X_train, y_train)\n",
    "    y_test_proba += model.predict_proba(X_test)[:, 1]\n",
    "\n",
    "print(\"Test Log Loss:\", log_loss(y_test, y_test_proba / len(models)))\n"
   ]
  }
 ],
 "metadata": {
  "kernelspec": {
   "display_name": "Python 3",
   "language": "python",
   "name": "python3"
  },
  "language_info": {
   "codemirror_mode": {
    "name": "ipython",
    "version": 3
   },
   "file_extension": ".py",
   "mimetype": "text/x-python",
   "name": "python",
   "nbconvert_exporter": "python",
   "pygments_lexer": "ipython3",
   "version": "3.10.5"
  },
  "orig_nbformat": 4
 },
 "nbformat": 4,
 "nbformat_minor": 2
}
